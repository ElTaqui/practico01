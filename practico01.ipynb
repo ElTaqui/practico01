{
  "nbformat": 4,
  "nbformat_minor": 0,
  "metadata": {
    "colab": {
      "provenance": []
    },
    "kernelspec": {
      "name": "python3",
      "display_name": "Python 3"
    },
    "language_info": {
      "name": "python"
    }
  },
  "cells": [
    {
      "cell_type": "markdown",
      "source": [
        "##Librerías"
      ],
      "metadata": {
        "id": "4gDi1rKHc9gn"
      }
    },
    {
      "cell_type": "code",
      "source": [
        "import numpy as np\n",
        "import pandas as pd\n",
        "import matplotlib.pyplot as plt"
      ],
      "metadata": {
        "id": "G1QVwCEcdBnQ"
      },
      "execution_count": 1,
      "outputs": []
    },
    {
      "cell_type": "markdown",
      "source": [
        "## Generación de datos Estatura"
      ],
      "metadata": {
        "id": "cLApaDt8dGL4"
      }
    },
    {
      "cell_type": "code",
      "source": [
        "np.random.seed(25)\n",
        "Es = np.random.uniform(1.45, 2.1, 100)\n",
        "Ps = []"
      ],
      "metadata": {
        "id": "1rnD7dCQdG1L"
      },
      "execution_count": 80,
      "outputs": []
    },
    {
      "cell_type": "markdown",
      "source": [
        "### Gereración de datos Peso"
      ],
      "metadata": {
        "id": "voF3xfAldVWE"
      }
    },
    {
      "cell_type": "code",
      "source": [
        "for E in Es:\n",
        "    # minimo y maximo en base a la estatura\n",
        "    P_min = 17 * (E ** 2)\n",
        "    P_max = 25 * (E ** 2)\n",
        "    peso = np.random.uniform(P_min, P_max)\n",
        "    Ps.append(peso)  # Añadir el peso a la lista de pesos"
      ],
      "metadata": {
        "id": "JMyYuKlndXFC"
      },
      "execution_count": 81,
      "outputs": []
    },
    {
      "cell_type": "markdown",
      "source": [
        "### Crear un DataFrame con los datos y conseguir datos necesarios"
      ],
      "metadata": {
        "id": "0EsAvehgdyfC"
      }
    },
    {
      "cell_type": "code",
      "source": [
        "data = pd.DataFrame({\n",
        "    'Estatura (m)': Es,\n",
        "    'Peso (kg)': Ps\n",
        "})"
      ],
      "metadata": {
        "id": "g-iKdqqydzF1"
      },
      "execution_count": 82,
      "outputs": []
    },
    {
      "cell_type": "code",
      "source": [
        "sx = 0\n",
        "sy = 0\n",
        "sxy = 0\n",
        "sx2 = 0\n",
        "n = len(data)"
      ],
      "metadata": {
        "id": "b2Mw-SMpk2Ha"
      },
      "execution_count": 83,
      "outputs": []
    },
    {
      "cell_type": "code",
      "source": [
        "for i in range(n):\n",
        "    x = data['Estatura (m)'].iloc[i]\n",
        "    y = data['Peso (kg)'].iloc[i]\n",
        "    sx += x\n",
        "    sy += y\n",
        "    sxy += x * y\n",
        "    sx2 += x ** 2"
      ],
      "metadata": {
        "id": "LrC6Vsa9oX3m"
      },
      "execution_count": 84,
      "outputs": []
    },
    {
      "cell_type": "markdown",
      "source": [
        "### Calcular la pendiente (m) y la intersección (b) de la recta y = mx + b"
      ],
      "metadata": {
        "id": "gdQXziGQd3VB"
      }
    },
    {
      "cell_type": "code",
      "source": [
        "x = data['Estatura (m)']\n",
        "y = data['Peso (kg)']\n",
        "m = (n * sxy - sx * sy) / (n * sx2 - sx ** 2)\n",
        "b = (sy - m * sx) / n"
      ],
      "metadata": {
        "id": "cXbwtvSjd4Kw"
      },
      "execution_count": 85,
      "outputs": []
    },
    {
      "cell_type": "markdown",
      "source": [
        "### Creamos la recta con lo datos obtenidos"
      ],
      "metadata": {
        "id": "AsIq_1ebd90i"
      }
    },
    {
      "cell_type": "code",
      "source": [
        "y_line = m * x + b"
      ],
      "metadata": {
        "id": "Jv79e7cad_zW"
      },
      "execution_count": 86,
      "outputs": []
    },
    {
      "cell_type": "markdown",
      "source": [
        "### Visualización de los datos generados y la recta ajustada"
      ],
      "metadata": {
        "id": "gNUS0v1heDCq"
      }
    },
    {
      "cell_type": "code",
      "source": [
        "plt.scatter(data['Estatura (m)'], data['Peso (kg)'], color='blue', label='Datos')\n",
        "plt.plot(x, y_line, color='red', label='Línea ajustada')\n",
        "plt.title('Estatura vs Peso con Línea Ajustada')\n",
        "plt.xlabel('Estatura (m)')\n",
        "plt.ylabel('Peso (kg)')\n",
        "plt.legend()\n",
        "plt.show()"
      ],
      "metadata": {
        "colab": {
          "base_uri": "https://localhost:8080/",
          "height": 472
        },
        "id": "Ze_GmLpyeEsM",
        "outputId": "9f9d3ba5-ee70-40d7-debc-0503c577f672"
      },
      "execution_count": 87,
      "outputs": [
        {
          "output_type": "display_data",
          "data": {
            "text/plain": [
              "<Figure size 640x480 with 1 Axes>"
            ],
            "image/png": "[encoded data removed]"
          },
          "metadata": {}
        }
      ]
    }
  ]
}